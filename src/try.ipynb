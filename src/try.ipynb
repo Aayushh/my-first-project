{
 "cells": [
  {
   "cell_type": "code",
   "execution_count": 27,
   "id": "7138cdae",
   "metadata": {},
   "outputs": [],
   "source": [
    "import os\n",
    "import pandas as pd\n",
    "import argparse\n",
    "import requests\n",
    "import json\n",
    "from dotenv import load_dotenv\n",
    "from pathlib import Path\n",
    "load_dotenv()\n",
    "PROJECT_ROOT = Path.cwd()\n",
    "BASE_URL = 'https://datawebws.usitc.gov/dataweb'\n",
    "requests.packages.urllib3.disable_warnings() \n",
    "basicQuery = {\n",
    "    \"savedQueryName\":\"\",\n",
    "    \"savedQueryDesc\":\"\",\n",
    "    \"isOwner\":True,\n",
    "    \"runMonthly\":False,\n",
    "    \"reportOptions\":{\n",
    "        \"tradeType\":\"Import\",\n",
    "        \"classificationSystem\":\"HTS\"\n",
    "    },\n",
    "    \"searchOptions\":{\n",
    "        \"MiscGroup\":{\n",
    "            \"districts\":{\n",
    "                \"aggregation\":\"Aggregate District\",\n",
    "                \"districtGroups\":{\n",
    "                    \"userGroups\":[]\n",
    "                },\n",
    "                \"districts\":[],\n",
    "                \"districtsExpanded\":\n",
    "                    [\n",
    "                        {\n",
    "                            \"name\":\"All Districts\",\n",
    "                            \"value\":\"all\"\n",
    "                        }\n",
    "                    ],\n",
    "                \"districtsSelectType\":\"all\"\n",
    "            },\n",
    "            \"importPrograms\":{\n",
    "                \"aggregation\":None,\n",
    "                \"importPrograms\":[],\n",
    "                \"programsSelectType\":\"all\"\n",
    "            },\n",
    "            \"extImportPrograms\":{\n",
    "                \"aggregation\":\"Aggregate CSC\",\n",
    "                \"extImportPrograms\":[],\n",
    "                \"extImportProgramsExpanded\":[],\n",
    "                \"programsSelectType\":\"all\"\n",
    "            },\n",
    "            \"provisionCodes\":{\n",
    "                \"aggregation\":\"Aggregate RPCODE\",\n",
    "                \"provisionCodesSelectType\":\"all\",\n",
    "                \"rateProvisionCodes\":[],\n",
    "                \"rateProvisionCodesExpanded\":[]\n",
    "            }\n",
    "        },\n",
    "        \"commodities\":{\n",
    "            \"aggregation\":\"Aggregate Commodities\",\n",
    "            \"codeDisplayFormat\":\"YES\",\n",
    "            \"commodities\":[],\n",
    "            \"commoditiesExpanded\":[],\n",
    "            \"commoditiesManual\":\"\",\n",
    "            \"commodityGroups\":{\n",
    "                \"systemGroups\":[],\n",
    "                \"userGroups\":[]\n",
    "            },\n",
    "            \"commoditySelectType\":\"all\",\n",
    "            \"granularity\":\"2\",\n",
    "            \"groupGranularity\":None,\n",
    "            \"searchGranularity\":None\n",
    "        },\n",
    "        \"componentSettings\":{\n",
    "            \"dataToReport\":\n",
    "                [\n",
    "                    \"CONS_FIR_UNIT_QUANT\"\n",
    "                ],\n",
    "            \"scale\":\"1\",\n",
    "            \"timeframeSelectType\":\"fullYears\",\n",
    "            \"years\":\n",
    "                [\n",
    "                    \"2022\",\"2023\"\n",
    "                ],\n",
    "            \"startDate\":None,\n",
    "            \"endDate\":None,\n",
    "            \"startMonth\":None,\n",
    "            \"endMonth\":None,\n",
    "            \"yearsTimeline\":\"Annual\"\n",
    "        },\n",
    "        \"countries\":{\n",
    "            \"aggregation\":\"Aggregate Countries\",\n",
    "            \"countries\":[],\n",
    "            \"countriesExpanded\":\n",
    "                [\n",
    "                    {\n",
    "                        \"name\":\"All Countries\",\n",
    "                        \"value\":\"all\"\n",
    "                    }\n",
    "                ],\n",
    "            \"countriesSelectType\":\"all\",\n",
    "            \"countryGroups\":{\n",
    "                \"systemGroups\":[],\n",
    "                \"userGroups\":[]\n",
    "            }\n",
    "        }\n",
    "    },\n",
    "    \"sortingAndDataFormat\":{\n",
    "        \"DataSort\":{\n",
    "            \"columnOrder\":[],\n",
    "            \"fullColumnOrder\":[],\n",
    "            \"sortOrder\":[]\n",
    "        },\n",
    "        \"reportCustomizations\":{\n",
    "            \"exportCombineTables\":False,\n",
    "            \"showAllSubtotal\":True,\n",
    "            \"subtotalRecords\":\"\",\n",
    "            \"totalRecords\":\"20000\",\n",
    "            \"exportRawData\":False\n",
    "        }\n",
    "    }\n",
    "}\n",
    "token = os.getenv(\"USITC_API_KEY\")\n",
    "baseUrl = 'https://datawebws.usitc.gov/dataweb'\n",
    "headers = {\n",
    "    \"Content-Type\": \"application/json; charset=utf-8\", \n",
    "    \"Authorization\": \"Bearer \" + token\n",
    "}\n",
    "requestData = basicQuery2\n",
    "response = requests.post(baseUrl+'/api/v2/report2/runReport', \n",
    "                         headers=headers, json=requestData, verify=False)"
   ]
  },
  {
   "cell_type": "code",
   "execution_count": 2,
   "id": "bde50563",
   "metadata": {},
   "outputs": [],
   "source": [
    "#Helper Functions\n",
    "#Print Query Function\n",
    "#This is a simple function designed to be used with the examples above, mostly to avoid copying/pasting the same lines of code over and over again. Note: it is NOT designed to work in most or all cases.\n",
    "\n",
    "def printQueryResults(headers, requestData):\n",
    "    response = requests.post(baseUrl+\"/api/v2/report2/runReport\", \n",
    "                            headers=headers, json=requestData, verify=False)\n",
    "\n",
    "    columns = getColumns(response.json()['dto']['tables'][0]['column_groups'])\n",
    "\n",
    "    data = getData(response.json()['dto']['tables'][0]['row_groups'][0]['rowsNew'])\n",
    "\n",
    "    df = pd.DataFrame(data, columns = columns)\n",
    "\n",
    "    return df\n",
    "#Support function to extract column names\n",
    "\n",
    "def getColumns(columnGroups, prevCols = None):\n",
    "    if prevCols is None:\n",
    "        columns = []\n",
    "    else:\n",
    "        columns = prevCols\n",
    "    for group in columnGroups:\n",
    "        if isinstance(group, dict) and 'columns' in group.keys():\n",
    "            getColumns(group['columns'], columns)\n",
    "        elif isinstance(group, dict) and 'label' in group.keys():\n",
    "            columns.append(group['label'])\n",
    "        elif isinstance(group, list):\n",
    "            getColumns(group, columns)\n",
    "    return columns\n",
    "#Support function to extract data values from JSON\n",
    "\n",
    "def getData(dataGroups):\n",
    "    data = []\n",
    "    for row in dataGroups:\n",
    "        rowData = []\n",
    "        for field in row['rowEntries']:\n",
    "            rowData.append(field['value'])\n",
    "        data.append(rowData)\n",
    "    return data"
   ]
  },
  {
   "cell_type": "code",
   "execution_count": 3,
   "id": "95d68ed8",
   "metadata": {},
   "outputs": [],
   "source": [
    "def json_to_python(json_text):\n",
    "    return json_text.replace('false', 'False').replace('true', 'True').replace('null', 'None')"
   ]
  },
  {
   "cell_type": "code",
   "execution_count": 26,
   "id": "0fc21651",
   "metadata": {},
   "outputs": [],
   "source": [
    "#This is another basic query\n",
    "basicQuery2 = {\"savedQueryType\":\"\",\"isOwner\":True,\"unitConversion\":\"0\",\"manualConversions\":[],\"reportOptions\":{\"tradeType\":\"Import\",\"classificationSystem\":\"HTS\"},\"searchOptions\":{\"MiscGroup\":{\"districts\":{\"aggregation\":\"Aggregate District\",\"districtGroups\":{},\"districts\":[],\"districtsExpanded\":[{\"name\":\"All Districts\",\"value\":\"all\"}],\"districtsSelectType\":\"all\"},\"importPrograms\":{\"aggregation\":None,\"importPrograms\":[],\"programsSelectType\":\"all\"},\"extImportPrograms\":{\"aggregation\":\"Aggregate CSC\",\"extImportPrograms\":[],\"extImportProgramsExpanded\":[],\"programsSelectType\":\"all\"},\"provisionCodes\":{\"aggregation\":\"Aggregate RPCODE\",\"provisionCodesSelectType\":\"all\",\"rateProvisionCodes\":[],\"rateProvisionCodesExpanded\":[],\"rateProvisionGroups\":{\"systemGroups\":[]}}},\"commodities\":{\"aggregation\":\"Aggregate Commodities\",\"codeDisplayFormat\":\"YES\",\"commodities\":[],\"commoditiesExpanded\":[],\"commoditiesManual\":\"\",\"commodityGroups\":{\"systemGroups\":[],\"userGroups\":[]},\"commoditySelectType\":\"all\",\"granularity\":\"2\",\"groupGranularity\":None,\"searchGranularity\":None,\"showHTSValidDetails\":\"\"},\"componentSettings\":{\"dataToReport\":[\"CONS_CUSTOMS_VALUE\"],\"scale\":\"1\",\"timeframeSelectType\":\"customTimePeriod\",\"years\":[\"2023\"],\"startDate\":None,\"endDate\":None,\"startMonth\":\"01\",\"endMonth\":\"02\",\"yearsTimeline\":\"Full Time Period\"},\"countries\":{\"aggregation\":\"Aggregate Countries\",\"countries\":[],\"countriesExpanded\":[{\"name\":\"All Countries\",\"value\":\"all\"}],\"countriesSelectType\":\"all\",\"countryGroups\":{\"systemGroups\":[],\"userGroups\":[]}}},\"sortingAndDataFormat\":{\"DataSort\":{\"columnOrder\":[],\"fullColumnOrder\":[],\"sortOrder\":[]},\"reportCustomizations\":{\"exportCombineTables\":False,\"totalRecords\":\"20000\",\"exportRawData\":False}},\"deletedCountryUserGroups\":[],\"deletedCommodityUserGroups\":[],\"deletedDistrictUserGroups\":[]}\n"
   ]
  },
  {
   "cell_type": "code",
   "execution_count": 39,
   "id": "9e8b915b",
   "metadata": {},
   "outputs": [],
   "source": [
    "basicQuery3 = {\"savedQueryType\":\"\",\"isOwner\":False,\"unitConversion\":\"0\",\"manualConversions\":[],\"reportOptions\":{\"tradeType\":\"Import\",\"classificationSystem\":\"HTS\"},\"searchOptions\":{\"MiscGroup\":{\"districts\":{\"aggregation\":\"Aggregate District\",\"districtGroups\":{},\"districts\":[],\"districtsExpanded\":[{\"name\":\"All Districts\",\"value\":\"all\"}],\"districtsSelectType\":\"all\"},\"importPrograms\":{\"aggregation\":None,\"importPrograms\":[],\"programsSelectType\":\"all\"},\"extImportPrograms\":{\"aggregation\":\"Aggregate CSC\",\"extImportPrograms\":[],\"extImportProgramsExpanded\":[],\"programsSelectType\":\"all\"},\"provisionCodes\":{\"aggregation\":\"Aggregate RPCODE\",\"provisionCodesSelectType\":\"all\",\"rateProvisionCodes\":[],\"rateProvisionCodesExpanded\":[],\"rateProvisionGroups\":{\"systemGroups\":[]}}},\"commodities\":{\"aggregation\":\"Break Out Commodities\",\"codeDisplayFormat\":\"YES\",\"commodities\":[],\"commoditiesExpanded\":[],\"commoditiesManual\":\"\",\"commodityGroups\":{\"systemGroups\":[],\"userGroups\":[]},\"commoditySelectType\":\"all\",\"granularity\":\"6\",\"groupGranularity\":None,\"searchGranularity\":None,\"showHTSValidDetails\":\"\"},\"componentSettings\":{\"dataToReport\":[\"CONS_CUSTOMS_VALUE\"],\"scale\":\"1\",\"timeframeSelectType\":\"customTimePeriod\",\"years\":[\"2025\"],\"startDate\":None,\"endDate\":None,\"startMonth\":\"01\",\"endMonth\":\"08\",\"yearsTimeline\":\"Monthly\"},\"countries\":{\"aggregation\":\"Aggregate Countries\",\"countries\":[\"5330\"],\"countriesExpanded\":[{\"name\":\"India - IN - IND\",\"value\":\"5330\"}],\"countriesSelectType\":\"list\",\"countryGroups\":{\"systemGroups\":[],\"userGroups\":[]}}},\"sortingAndDataFormat\":{\"DataSort\":{\"columnOrder\":[\"HTS2 & DESCRIPTION\"],\"fullColumnOrder\":[{\"hasChildren\":False,\"name\":\"HTS2 & DESCRIPTION\",\"value\":\"HTS2 & DESCRIPTION\",\"classificationSystem\":\"\",\"groupUUID\":\"\",\"items\":[],\"tradeType\":\"\"}],\"sortOrder\":[{\"sortData\":\"HTS2 & DESCRIPTION\",\"orderBy\":\"asc\",\"year\":\"\"}]},\"reportCustomizations\":{\"exportCombineTables\":False,\"totalRecords\":\"20000\",\"exportRawData\":False}},\"deletedCountryUserGroups\":[],\"deletedCommodityUserGroups\":[],\"deletedDistrictUserGroups\":[]}"
   ]
  },
  {
   "cell_type": "code",
   "execution_count": 4,
   "id": "c2c371e3",
   "metadata": {},
   "outputs": [],
   "source": [
    "basicQuery4 = json.loads(\"\"\"{\"savedQueryType\":\"\",\"isOwner\":true,\"unitConversion\":\"0\",\"manualConversions\":[],\"reportOptions\":{\"tradeType\":\"Import\",\"classificationSystem\":\"HTS\"},\"searchOptions\":{\"MiscGroup\":{\"districts\":{\"aggregation\":\"Aggregate District\",\"districtGroups\":{},\"districts\":[],\"districtsExpanded\":[{\"name\":\"All Districts\",\"value\":\"all\"}],\"districtsSelectType\":\"all\"},\"importPrograms\":{\"aggregation\":null,\"importPrograms\":[],\"programsSelectType\":\"all\"},\"extImportPrograms\":{\"aggregation\":\"Break Out CSC\",\"extImportPrograms\":[],\"extImportProgramsExpanded\":[],\"programsSelectType\":\"all\"},\"provisionCodes\":{\"aggregation\":\"Break Out RPCODE\",\"provisionCodesSelectType\":\"all\",\"rateProvisionCodes\":[],\"rateProvisionCodesExpanded\":[],\"rateProvisionGroups\":{\"systemGroups\":[]}}},\"commodities\":{\"aggregation\":\"Break Out Commodities\",\"codeDisplayFormat\":\"YES\",\"commodities\":[],\"commoditiesExpanded\":[],\"commoditiesManual\":\"\",\"commodityGroups\":{\"systemGroups\":[],\"userGroups\":[]},\"commoditySelectType\":\"all\",\"granularity\":\"2\",\"groupGranularity\":null,\"searchGranularity\":null,\"showHTSValidDetails\":\"\"},\"componentSettings\":{\"dataToReport\":[\"CONS_CUSTOMS_VALUE\",\"CONS_CUSTOMS_VALUE_SUB_DUTY\"],\"scale\":\"1\",\"timeframeSelectType\":\"fullYears\",\"years\":[\"2025\"],\"startDate\":null,\"endDate\":null,\"startMonth\":null,\"endMonth\":null,\"yearsTimeline\":\"Monthly\"},\"countries\":{\"aggregation\":\"Aggregate Countries\",\"countries\":[],\"countriesExpanded\":[{\"name\":\"All Countries\",\"value\":\"all\"}],\"countriesSelectType\":\"all\",\"countryGroups\":{\"systemGroups\":[],\"userGroups\":[]}}},\"sortingAndDataFormat\":{\"DataSort\":{\"columnOrder\":[\"RATE-PROVISION-CODE\",\"HTS2 & DESCRIPTION\",\"YEAR\",\"EXTENDED-SPECIAL-IMPORT-PROGRAM\"],\"fullColumnOrder\":[{\"hasChildren\":false,\"name\":\"Rate Provision Codes\",\"value\":\"RATE-PROVISION-CODE\",\"classificationSystem\":\"\",\"groupUUID\":\"\",\"items\":[],\"tradeType\":\"\"},{\"hasChildren\":false,\"name\":\"HTS2 & DESCRIPTION\",\"value\":\"HTS2 & DESCRIPTION\",\"classificationSystem\":\"\",\"groupUUID\":\"\",\"items\":[],\"tradeType\":\"\"},{\"hasChildren\":false,\"name\":\"Year\",\"value\":\"YEAR\",\"classificationSystem\":\"\",\"groupUUID\":\"\",\"items\":[],\"tradeType\":\"\"},{\"hasChildren\":false,\"name\":\"Special Import Programs\",\"value\":\"EXTENDED-SPECIAL-IMPORT-PROGRAM\",\"classificationSystem\":\"\",\"groupUUID\":\"\",\"items\":[],\"tradeType\":\"\"}],\"sortOrder\":[{\"sortData\":\"Rate Provision Codes\",\"orderBy\":\"asc\",\"year\":\"\"}]},\"reportCustomizations\":{\"exportCombineTables\":false,\"totalRecords\":\"20000\",\"exportRawData\":false}},\"deletedCountryUserGroups\":[],\"deletedCommodityUserGroups\":[],\"deletedDistrictUserGroups\":[]}\"\"\")"
   ]
  },
  {
   "cell_type": "markdown",
   "id": "f4b9ffc2",
   "metadata": {},
   "source": [
    "go to Inspect-network-runreport-payload\n",
    "use json.loads (\"\"\" \"\"\") to convert string to dictionary\n"
   ]
  },
  {
   "cell_type": "code",
   "execution_count": 30,
   "id": "b55f0748",
   "metadata": {},
   "outputs": [],
   "source": [
    "basicQuery5=json.loads(\"\"\"{\"savedQueryType\":\"\",\"isOwner\":true,\"unitConversion\":\"0\",\"manualConversions\":[],\"reportOptions\":{\"tradeType\":\"Import\",\"classificationSystem\":\"HTS\"},\"searchOptions\":{\"MiscGroup\":{\"districts\":{\"aggregation\":\"Aggregate District\",\"districtGroups\":{},\"districts\":[],\"districtsExpanded\":[{\"name\":\"All Districts\",\"value\":\"all\"}],\"districtsSelectType\":\"all\"},\"importPrograms\":{\"aggregation\":null,\"importPrograms\":[],\"programsSelectType\":\"all\"},\"extImportPrograms\":{\"aggregation\":\"Aggregate CSC\",\"extImportPrograms\":[],\"extImportProgramsExpanded\":[],\"programsSelectType\":\"all\"},\"provisionCodes\":{\"aggregation\":\"Aggregate RPCODE\",\"provisionCodesSelectType\":\"all\",\"rateProvisionCodes\":[],\"rateProvisionCodesExpanded\":[],\"rateProvisionGroups\":{\"systemGroups\":[]}}},\"commodities\":{\"aggregation\":\"Break Out Commodities\",\"codeDisplayFormat\":\"YES\",\"commodities\":[],\"commoditiesExpanded\":[],\"commoditiesManual\":\"\",\"commodityGroups\":{\"systemGroups\":[],\"userGroups\":[]},\"commoditySelectType\":\"all\",\"granularity\":\"4\",\"groupGranularity\":null,\"searchGranularity\":null,\"showHTSValidDetails\":\"\"},\"componentSettings\":{\"dataToReport\":[\"CONS_CUSTOMS_VALUE\"],\"scale\":\"1\",\"timeframeSelectType\":\"customTimePeriod\",\"years\":[\"2025\"],\"startDate\":null,\"endDate\":null,\"startMonth\":\"01\",\"endMonth\":\"07\",\"yearsTimeline\":\"Monthly\"},\"countries\":{\"aggregation\":\"Aggregate Countries\",\"countries\":[],\"countriesExpanded\":[{\"name\":\"All Countries\",\"value\":\"all\"}],\"countriesSelectType\":\"all\",\"countryGroups\":{\"systemGroups\":[],\"userGroups\":[]}}},\"sortingAndDataFormat\":{\"DataSort\":{\"columnOrder\":[\"HTS4 & DESCRIPTION\"],\"fullColumnOrder\":[{\"hasChildren\":false,\"name\":\"HTS4 & DESCRIPTION\",\"value\":\"HTS4 & DESCRIPTION\",\"classificationSystem\":\"\",\"groupUUID\":\"\",\"items\":[],\"tradeType\":\"\"}],\"sortOrder\":[{\"sortData\":\"HTS4 & DESCRIPTION\",\"orderBy\":\"asc\",\"year\":\"\"}]},\"reportCustomizations\":{\"exportCombineTables\":false,\"totalRecords\":\"20000\",\"exportRawData\":false}},\"deletedCountryUserGroups\":[],\"deletedCommodityUserGroups\":[],\"deletedDistrictUserGroups\":[]}\"\"\")"
   ]
  },
  {
   "cell_type": "code",
   "execution_count": 34,
   "id": "dbb1fc7c",
   "metadata": {},
   "outputs": [],
   "source": [
    "basicQuery6=json.loads(\"\"\"{\"savedQueryType\":\"\",\"isOwner\":true,\"unitConversion\":\"0\",\"manualConversions\":[],\"reportOptions\":{\"tradeType\":\"Import\",\"classificationSystem\":\"HTS\"},\"searchOptions\":{\"MiscGroup\":{\"districts\":{\"aggregation\":\"Aggregate District\",\"districtGroups\":{},\"districts\":[],\"districtsExpanded\":[{\"name\":\"All Districts\",\"value\":\"all\"}],\"districtsSelectType\":\"all\"},\"importPrograms\":{\"aggregation\":null,\"importPrograms\":[],\"programsSelectType\":\"all\"},\"extImportPrograms\":{\"aggregation\":\"Aggregate CSC\",\"extImportPrograms\":[],\"extImportProgramsExpanded\":[],\"programsSelectType\":\"all\"},\"provisionCodes\":{\"aggregation\":\"Aggregate RPCODE\",\"provisionCodesSelectType\":\"all\",\"rateProvisionCodes\":[],\"rateProvisionCodesExpanded\":[],\"rateProvisionGroups\":{\"systemGroups\":[]}}},\"commodities\":{\"aggregation\":\"Break Out Commodities\",\"codeDisplayFormat\":\"YES\",\"commodities\":[],\"commoditiesExpanded\":[],\"commoditiesManual\":\"\",\"commodityGroups\":{\"systemGroups\":[],\"userGroups\":[]},\"commoditySelectType\":\"all\",\"granularity\":\"10\",\"groupGranularity\":null,\"searchGranularity\":null,\"showHTSValidDetails\":\"\"},\"componentSettings\":{\"dataToReport\":[\"CONS_CUSTOMS_VALUE\"],\"scale\":\"1\",\"timeframeSelectType\":\"customTimePeriod\",\"years\":[\"2025\"],\"startDate\":null,\"endDate\":null,\"startMonth\":\"01\",\"endMonth\":\"07\",\"yearsTimeline\":\"Monthly\"},\"countries\":{\"aggregation\":\"Aggregate Countries\",\"countries\":[],\"countriesExpanded\":[{\"name\":\"All Countries\",\"value\":\"all\"}],\"countriesSelectType\":\"all\",\"countryGroups\":{\"systemGroups\":[],\"userGroups\":[]}}},\"sortingAndDataFormat\":{\"DataSort\":{\"columnOrder\":[\"HTS10 & DESCRIPTION\"],\"fullColumnOrder\":[{\"hasChildren\":false,\"name\":\"HTS10 & DESCRIPTION\",\"value\":\"HTS10 & DESCRIPTION\",\"classificationSystem\":\"\",\"groupUUID\":\"\",\"items\":[],\"tradeType\":\"\"}],\"sortOrder\":[{\"sortData\":\"HTS10 & DESCRIPTION\",\"orderBy\":\"asc\",\"year\":\"\"}]},\"reportCustomizations\":{\"exportCombineTables\":false,\"totalRecords\":\"20000\",\"exportRawData\":false}},\"deletedCountryUserGroups\":[],\"deletedCommodityUserGroups\":[],\"deletedDistrictUserGroups\":[]}\"\"\")"
   ]
  },
  {
   "cell_type": "code",
   "execution_count": null,
   "id": "55e23899",
   "metadata": {},
   "outputs": [],
   "source": [
    "query = {\"savedQueryType\":\"\",\"isOwner\":true,\"unitConversion\":\"0\",\"manualConversions\":[],\"reportOptions\":{\"tradeType\":\"Import\",\"classificationSystem\":\"HTS\"},\"searchOptions\":{\"MiscGroup\":{\"districts\":{\"aggregation\":\"Aggregate District\",\"districtGroups\":{},\"districts\":[],\"districtsExpanded\":[{\"name\":\"All Districts\",\"value\":\"all\"}],\"districtsSelectType\":\"all\"},\"importPrograms\":{\"aggregation\":null,\"importPrograms\":[],\"programsSelectType\":\"all\"},\"extImportPrograms\":{\"aggregation\":\"Aggregate CSC\",\"extImportPrograms\":[],\"extImportProgramsExpanded\":[],\"programsSelectType\":\"all\"},\"provisionCodes\":{\"aggregation\":\"Aggregate RPCODE\",\"provisionCodesSelectType\":\"all\",\"rateProvisionCodes\":[],\"rateProvisionCodesExpanded\":[],\"rateProvisionGroups\":{\"systemGroups\":[]}}},\"commodities\":{\"aggregation\":\"Break Out Commodities\",\"codeDisplayFormat\":\"YES\",\"commodities\":[],\"commoditiesExpanded\":[],\"commoditiesManual\":\"\",\"commodityGroups\":{\"systemGroups\":[],\"userGroups\":[]},\"commoditySelectType\":\"all\",\"granularity\":\"10\",\"groupGranularity\":null,\"searchGranularity\":null,\"showHTSValidDetails\":\"\"},\"componentSettings\":{\"dataToReport\":[\"CONS_CUSTOMS_VALUE\"],\"scale\":\"1\",\"timeframeSelectType\":\"customTimePeriod\",\"years\":[\"2025\"],\"startDate\":null,\"endDate\":null,\"startMonth\":\"01\",\"endMonth\":\"07\",\"yearsTimeline\":\"Monthly\"},\"countries\":{\"aggregation\":\"Aggregate Countries\",\"countries\":[],\"countriesExpanded\":[{\"name\":\"All Countries\",\"value\":\"all\"}],\"countriesSelectType\":\"all\",\"countryGroups\":{\"systemGroups\":[],\"userGroups\":[]}}},\"sortingAndDataFormat\":{\"DataSort\":{\"columnOrder\":[\"HTS10 & DESCRIPTION\"],\"fullColumnOrder\":[{\"hasChildren\":false,\"name\":\"HTS10 & DESCRIPTION\",\"value\":\"HTS10 & DESCRIPTION\",\"classificationSystem\":\"\",\"groupUUID\":\"\",\"items\":[],\"tradeType\":\"\"}],\"sortOrder\":[{\"sortData\":\"HTS10 & DESCRIPTION\",\"orderBy\":\"asc\",\"year\":\"\"}]},\"reportCustomizations\":{\"exportCombineTables\":false,\"totalRecords\":\"20000\",\"exportRawData\":false}},\"deletedCountryUserGroups\":[],\"deletedCommodityUserGroups\":[],\"deletedDistrictUserGroups\":[]}"
   ]
  },
  {
   "cell_type": "code",
   "execution_count": null,
   "id": "67c0fc7c",
   "metadata": {},
   "outputs": [],
   "source": [
    "basicQuery7=json.loads(\"\"\"query\"\"\")"
   ]
  },
  {
   "cell_type": "code",
   "execution_count": 35,
   "id": "fb846773",
   "metadata": {},
   "outputs": [
    {
     "ename": "TypeError",
     "evalue": "'NoneType' object is not subscriptable",
     "output_type": "error",
     "traceback": [
      "\u001b[1;31m---------------------------------------------------------------------------\u001b[0m",
      "\u001b[1;31mTypeError\u001b[0m                                 Traceback (most recent call last)",
      "Cell \u001b[1;32mIn[35], line 1\u001b[0m\n\u001b[1;32m----> 1\u001b[0m \u001b[43mprintQueryResults\u001b[49m\u001b[43m(\u001b[49m\u001b[43mheaders\u001b[49m\u001b[43m,\u001b[49m\u001b[43m \u001b[49m\u001b[43mbasicQuery6\u001b[49m\u001b[43m)\u001b[49m\n",
      "Cell \u001b[1;32mIn[2], line 9\u001b[0m, in \u001b[0;36mprintQueryResults\u001b[1;34m(headers, requestData)\u001b[0m\n\u001b[0;32m      5\u001b[0m \u001b[38;5;28;01mdef\u001b[39;00m\u001b[38;5;250m \u001b[39m\u001b[38;5;21mprintQueryResults\u001b[39m(headers, requestData):\n\u001b[0;32m      6\u001b[0m     response \u001b[38;5;241m=\u001b[39m requests\u001b[38;5;241m.\u001b[39mpost(baseUrl\u001b[38;5;241m+\u001b[39m\u001b[38;5;124m\"\u001b[39m\u001b[38;5;124m/api/v2/report2/runReport\u001b[39m\u001b[38;5;124m\"\u001b[39m, \n\u001b[0;32m      7\u001b[0m                             headers\u001b[38;5;241m=\u001b[39mheaders, json\u001b[38;5;241m=\u001b[39mrequestData, verify\u001b[38;5;241m=\u001b[39m\u001b[38;5;28;01mFalse\u001b[39;00m)\n\u001b[1;32m----> 9\u001b[0m     columns \u001b[38;5;241m=\u001b[39m getColumns(\u001b[43mresponse\u001b[49m\u001b[38;5;241;43m.\u001b[39;49m\u001b[43mjson\u001b[49m\u001b[43m(\u001b[49m\u001b[43m)\u001b[49m\u001b[43m[\u001b[49m\u001b[38;5;124;43m'\u001b[39;49m\u001b[38;5;124;43mdto\u001b[39;49m\u001b[38;5;124;43m'\u001b[39;49m\u001b[43m]\u001b[49m\u001b[43m[\u001b[49m\u001b[38;5;124;43m'\u001b[39;49m\u001b[38;5;124;43mtables\u001b[39;49m\u001b[38;5;124;43m'\u001b[39;49m\u001b[43m]\u001b[49m[\u001b[38;5;241m0\u001b[39m][\u001b[38;5;124m'\u001b[39m\u001b[38;5;124mcolumn_groups\u001b[39m\u001b[38;5;124m'\u001b[39m])\n\u001b[0;32m     11\u001b[0m     data \u001b[38;5;241m=\u001b[39m getData(response\u001b[38;5;241m.\u001b[39mjson()[\u001b[38;5;124m'\u001b[39m\u001b[38;5;124mdto\u001b[39m\u001b[38;5;124m'\u001b[39m][\u001b[38;5;124m'\u001b[39m\u001b[38;5;124mtables\u001b[39m\u001b[38;5;124m'\u001b[39m][\u001b[38;5;241m0\u001b[39m][\u001b[38;5;124m'\u001b[39m\u001b[38;5;124mrow_groups\u001b[39m\u001b[38;5;124m'\u001b[39m][\u001b[38;5;241m0\u001b[39m][\u001b[38;5;124m'\u001b[39m\u001b[38;5;124mrowsNew\u001b[39m\u001b[38;5;124m'\u001b[39m])\n\u001b[0;32m     13\u001b[0m     df \u001b[38;5;241m=\u001b[39m pd\u001b[38;5;241m.\u001b[39mDataFrame(data, columns \u001b[38;5;241m=\u001b[39m columns)\n",
      "\u001b[1;31mTypeError\u001b[0m: 'NoneType' object is not subscriptable"
     ]
    }
   ],
   "source": [
    "printQueryResults(headers, basicQuery6)"
   ]
  }
 ],
 "metadata": {
  "kernelspec": {
   "display_name": "first-project-env",
   "language": "python",
   "name": "python3"
  },
  "language_info": {
   "codemirror_mode": {
    "name": "ipython",
    "version": 3
   },
   "file_extension": ".py",
   "mimetype": "text/x-python",
   "name": "python",
   "nbconvert_exporter": "python",
   "pygments_lexer": "ipython3",
   "version": "3.10.18"
  }
 },
 "nbformat": 4,
 "nbformat_minor": 5
}
